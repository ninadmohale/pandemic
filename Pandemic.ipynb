{
 "cells": [
  {
   "cell_type": "markdown",
   "metadata": {
    "heading_collapsed": true
   },
   "source": [
    "# Pandemic - optimum research centers"
   ]
  },
  {
   "cell_type": "markdown",
   "metadata": {
    "hidden": true
   },
   "source": [
    "Strategy\n",
    "Create graph - Create all cities, link them together\n",
    "Here, each city should give all its links\n",
    "\n",
    "Pick 2 cities at random, calculate distances of all cities from nearest of 2 cities\n",
    "Here, you should be able to find min distance from each city\n",
    "\n",
    "Take this sum for all cities, add it together for each city group selection"
   ]
  },
  {
   "cell_type": "code",
   "execution_count": null,
   "metadata": {
    "hidden": true
   },
   "outputs": [],
   "source": []
  },
  {
   "cell_type": "markdown",
   "metadata": {
    "hidden": true
   },
   "source": [
    "## Creating a data structure for graphs"
   ]
  },
  {
   "cell_type": "code",
   "execution_count": null,
   "metadata": {
    "ExecuteTime": {
     "end_time": "2020-09-29T03:01:20.095258Z",
     "start_time": "2020-09-29T03:01:20.090565Z"
    },
    "hidden": true
   },
   "outputs": [],
   "source": [
    "# class City:\n",
    "    def __init__(self, name):\n",
    "        self.name = name\n",
    "        self.connections = {}\n",
    "        \n",
    "    def __repr__(self):\n",
    "        return (f'{self.name}')\n",
    "    \n",
    "    def addcon(self,other):\n",
    "        self.connections[]=[]\n",
    "        other.connections.append(self)"
   ]
  },
  {
   "cell_type": "code",
   "execution_count": null,
   "metadata": {
    "ExecuteTime": {
     "end_time": "2020-09-30T18:57:07.073459Z",
     "start_time": "2020-09-30T18:57:07.068841Z"
    },
    "hidden": true
   },
   "outputs": [],
   "source": [
    "\n",
    "class City:\n",
    "    def __init__(self, name):\n",
    "        self.name = name\n",
    "        self.connections = {}\n",
    "        self.rec = False\n",
    "        \n",
    "    def __repr__(self):\n",
    "        return (f'{self.name}')\n",
    "    \n",
    "class Research(City):\n",
    "    def __init__(self,name):\n",
    "        super().__init__(name)\n",
    "        self.rec = True"
   ]
  },
  {
   "cell_type": "code",
   "execution_count": null,
   "metadata": {
    "hidden": true
   },
   "outputs": [],
   "source": [
    "# Get shortest distance between 2 places\n",
    "\n",
    "def shortest_dist(c1,c2):\n",
    "    for c in mapp[c1]:\n",
    "        \n"
   ]
  },
  {
   "cell_type": "code",
   "execution_count": null,
   "metadata": {
    "ExecuteTime": {
     "end_time": "2020-09-30T18:57:08.925055Z",
     "start_time": "2020-09-30T18:57:08.919836Z"
    },
    "hidden": true
   },
   "outputs": [],
   "source": [
    "class World():\n",
    "    def __init__(self,mapp=None):\n",
    "        if mapp:\n",
    "            self.map = mapp\n",
    "        else:\n",
    "            self.map = {}\n",
    "    \n",
    "    def __repr__(self):\n",
    "        return(f'{self.map}')\n",
    "    \n",
    "    def addcity(self,city):\n",
    "        self.map[city] = []\n",
    "        \n",
    "    def addroute(self,city1,city2):\n",
    "        self.map[city1].append(city2)\n",
    "        self.map[city2].append(city1)\n",
    "        "
   ]
  },
  {
   "cell_type": "code",
   "execution_count": null,
   "metadata": {
    "ExecuteTime": {
     "end_time": "2020-09-30T18:57:11.309000Z",
     "start_time": "2020-09-30T18:57:11.298425Z"
    },
    "hidden": true
   },
   "outputs": [],
   "source": [
    "a = City('Mumbai')\n",
    "b = Research('Delhi')\n",
    "c = City('Pune')\n",
    "\n",
    "p = World()\n",
    "p.addcity(a)\n",
    "p.addcity(b)\n",
    "p.addcity(c)\n",
    "p.addroute(a,b)\n",
    "p.addroute(a,c)\n",
    "\n",
    "p"
   ]
  },
  {
   "cell_type": "code",
   "execution_count": null,
   "metadata": {
    "ExecuteTime": {
     "end_time": "2020-09-30T19:00:55.676909Z",
     "start_time": "2020-09-30T19:00:55.673156Z"
    },
    "hidden": true
   },
   "outputs": [],
   "source": [
    "g = { \"a\" : [\"d\"],\n",
    "          \"b\" : [\"c\"],\n",
    "          \"c\" : [\"b\", \"d\", \"e\"],\n",
    "          \"d\" : [\"a\", \"c\"],\n",
    "          \"e\" : [\"c\"],\n",
    "          \"f\" : []\n",
    "        }\n",
    "\n"
   ]
  },
  {
   "cell_type": "code",
   "execution_count": null,
   "metadata": {
    "ExecuteTime": {
     "end_time": "2020-09-30T19:01:00.769437Z",
     "start_time": "2020-09-30T19:01:00.765444Z"
    },
    "hidden": true
   },
   "outputs": [],
   "source": [
    "p1 = World(g)\n",
    "p1"
   ]
  },
  {
   "cell_type": "code",
   "execution_count": null,
   "metadata": {
    "hidden": true
   },
   "outputs": [],
   "source": []
  },
  {
   "cell_type": "code",
   "execution_count": null,
   "metadata": {
    "hidden": true
   },
   "outputs": [],
   "source": []
  },
  {
   "cell_type": "code",
   "execution_count": null,
   "metadata": {
    "ExecuteTime": {
     "end_time": "2020-09-29T03:55:01.701442Z",
     "start_time": "2020-09-29T03:55:01.685697Z"
    },
    "hidden": true
   },
   "outputs": [],
   "source": [
    "class Graph(object):\n",
    "\n",
    "    def __init__(self, graph_dict=None):\n",
    "        \"\"\" initializes a graph object \n",
    "            If no dictionary or None is given, \n",
    "            an empty dictionary will be used\n",
    "        \"\"\"\n",
    "        if graph_dict == None:\n",
    "            graph_dict = {}\n",
    "        self.__graph_dict = graph_dict\n",
    "\n",
    "    def vertices(self):\n",
    "        \"\"\" returns the vertices of a graph \"\"\"\n",
    "        return list(self.__graph_dict.keys())\n",
    "\n",
    "    def edges(self):\n",
    "        \"\"\" returns the edges of a graph \"\"\"\n",
    "        return self.__generate_edges()\n",
    "\n",
    "    def add_vertex(self, vertex):\n",
    "        \"\"\" If the vertex \"vertex\" is not in \n",
    "            self.__graph_dict, a key \"vertex\" with an empty\n",
    "            list as a value is added to the dictionary. \n",
    "            Otherwise nothing has to be done. \n",
    "        \"\"\"\n",
    "        if vertex not in self.__graph_dict:\n",
    "            self.__graph_dict[vertex] = []\n",
    "\n",
    "    def add_edge(self, edge):\n",
    "        \"\"\" assumes that edge is of type set, tuple or list; \n",
    "            between two vertices can be multiple edges! \n",
    "        \"\"\"\n",
    "        edge = set(edge)\n",
    "        (vertex1, vertex2) = tuple(edge)\n",
    "        if vertex1 in self.__graph_dict:\n",
    "            self.__graph_dict[vertex1].append(vertex2)\n",
    "        else:\n",
    "            self.__graph_dict[vertex1] = [vertex2]\n",
    "\n",
    "    def __generate_edges(self):\n",
    "        \"\"\" A static method generating the edges of the \n",
    "            graph \"graph\". Edges are represented as sets \n",
    "            with one (a loop back to the vertex) or two \n",
    "            vertices \n",
    "        \"\"\"\n",
    "        edges = []\n",
    "        for vertex in self.__graph_dict:\n",
    "            for neighbour in self.__graph_dict[vertex]:\n",
    "                if {neighbour, vertex} not in edges:\n",
    "                    edges.append({vertex, neighbour})\n",
    "        return edges\n",
    "\n",
    "    def __str__(self):\n",
    "        res = \"vertices: \"\n",
    "        for k in self.__graph_dict:\n",
    "            res += str(k) + \" \"\n",
    "        res += \"\\nedges: \"\n",
    "        for edge in self.__generate_edges():\n",
    "            res += str(edge) + \" \"\n",
    "        return res\n",
    "\n",
    "\n",
    "if __name__ == \"__main__\":\n",
    "\n",
    "    g = { \"a\" : [\"d\"],\n",
    "          \"b\" : [\"c\"],\n",
    "          \"c\" : [\"b\", \"c\", \"d\", \"e\"],\n",
    "          \"d\" : [\"a\", \"c\"],\n",
    "          \"e\" : [\"c\"],\n",
    "          \"f\" : []\n",
    "        }\n",
    "\n",
    "\n",
    "    graph = Graph(g)\n",
    "\n",
    "    print(\"Vertices of graph:\")\n",
    "    print(graph.vertices())\n",
    "\n",
    "    print(\"Edges of graph:\")\n",
    "    print(graph.edges())\n",
    "\n",
    "    print(\"Add vertex:\")\n",
    "    graph.add_vertex(\"z\")\n",
    "\n",
    "    print(\"Vertices of graph:\")\n",
    "    print(graph.vertices())\n",
    " \n",
    "    print(\"Add an edge:\")\n",
    "    graph.add_edge({\"a\",\"z\"})\n",
    "    \n",
    "    print(\"Vertices of graph:\")\n",
    "    print(graph.vertices())\n",
    "\n",
    "    print(\"Edges of graph:\")\n",
    "    print(graph.edges())\n",
    "\n",
    "    print('Adding an edge {\"x\",\"y\"} with new vertices:')\n",
    "    graph.add_edge({\"x\",\"y\"})\n",
    "    print(\"Vertices of graph:\")\n",
    "    print(graph.vertices())\n",
    "    print(\"Edges of graph:\")\n",
    "    print(graph.edges())"
   ]
  },
  {
   "cell_type": "code",
   "execution_count": null,
   "metadata": {
    "hidden": true
   },
   "outputs": [],
   "source": []
  },
  {
   "cell_type": "markdown",
   "metadata": {
    "ExecuteTime": {
     "end_time": "2020-10-02T02:23:50.312914Z",
     "start_time": "2020-10-02T02:23:50.096431Z"
    },
    "hidden": true
   },
   "source": [
    "![Image of Yaktocat](https://media.geeksforgeeks.org/wp-content/uploads/minmEdges-1.png)"
   ]
  },
  {
   "cell_type": "markdown",
   "metadata": {
    "hidden": true
   },
   "source": [
    "https://www.geeksforgeeks.org/minimum-number-of-edges-between-two-vertices-of-a-graph/"
   ]
  },
  {
   "cell_type": "code",
   "execution_count": null,
   "metadata": {
    "ExecuteTime": {
     "end_time": "2020-10-02T02:24:34.052889Z",
     "start_time": "2020-10-02T02:24:34.050101Z"
    },
    "hidden": true,
    "scrolled": false
   },
   "outputs": [],
   "source": [
    "# Python3 program to find minimum edge  \n",
    "# between given two vertex of Graph \n",
    "import queue  \n",
    "\n",
    "# dir(queue.Queue)"
   ]
  },
  {
   "cell_type": "code",
   "execution_count": null,
   "metadata": {
    "ExecuteTime": {
     "end_time": "2020-10-06T18:55:54.744889Z",
     "start_time": "2020-10-06T18:55:54.733622Z"
    },
    "hidden": true
   },
   "outputs": [],
   "source": [
    "# function for finding minimum  \n",
    "# no. of edge using BFS  \n",
    "def minEdgeBFS(edges, u, v, n): \n",
    "      \n",
    "    # visited[n] for keeping track  \n",
    "    # of visited node in BFS  \n",
    "    visited = [0] * n  \n",
    "  \n",
    "    # Initialize distances as 0  \n",
    "    distance = [0] * n \n",
    "  \n",
    "    # queue to do BFS.  \n",
    "    Q = queue.Queue() \n",
    "    distance[u] = 0\n",
    "  \n",
    "    Q.put(u)  \n",
    "    visited[u] = True\n",
    "    while (not Q.empty()): \n",
    "        x = Q.get()  \n",
    "#         print(f'x {x}')\n",
    "          \n",
    "        for i in range(len(edges[x])): \n",
    "            if (visited[edges[x][i]]): \n",
    "                continue\n",
    "  \n",
    "            # update distance for i  \n",
    "            distance[edges[x][i]] = distance[x] + 1\n",
    "            Q.put(edges[x][i])  \n",
    "            visited[edges[x][i]] = 1\n",
    "    \n",
    "#     print(f'distance is {distance}')\n",
    "#     print(f'visited is {visited}')\n",
    "    return distance[v] \n",
    "\n",
    "  \n",
    "# function for addition of edge  \n",
    "def addEdge(edges, u, v): \n",
    "    edges[u].append(v)  \n",
    "    edges[v].append(u) \n",
    "  \n",
    "# Driver  Code \n",
    "if __name__ == '__main__': \n",
    "  \n",
    "    # To store adjacency list of graph  \n",
    "    n = 9\n",
    "    edges = [[] for i in range(n)] \n",
    "    \n",
    "    addEdge(edges, 0, 1)  \n",
    "    addEdge(edges, 0, 7)  \n",
    "    addEdge(edges, 1, 7)  \n",
    "    addEdge(edges, 1, 2)  \n",
    "    addEdge(edges, 2, 3)  \n",
    "    addEdge(edges, 2, 5)  \n",
    "    addEdge(edges, 2, 8)  \n",
    "    addEdge(edges, 3, 4)  \n",
    "    addEdge(edges, 3, 5)  \n",
    "    addEdge(edges, 4, 5)  \n",
    "    addEdge(edges, 5, 6)  \n",
    "    addEdge(edges, 6, 7)  \n",
    "    addEdge(edges, 7, 8)  \n",
    "    print(f'edges {edges}')\n",
    "    u = 8\n",
    "    v = 1\n",
    "    print(minEdgeBFS(edges, u, v, n)) "
   ]
  },
  {
   "cell_type": "markdown",
   "metadata": {
    "hidden": true
   },
   "source": [
    "For each combination of research centers, I want distances of all cities from each rec center and then addition of minimum distance from each rec"
   ]
  },
  {
   "cell_type": "code",
   "execution_count": null,
   "metadata": {
    "ExecuteTime": {
     "end_time": "2020-10-06T22:05:09.010208Z",
     "start_time": "2020-10-06T22:05:08.955246Z"
    },
    "hidden": true
   },
   "outputs": [],
   "source": [
    "list_of_lists = [[1, 7], [0, 7, 2], [1, 3, 5, 8], [2, 4, 5], [3, 5], [2, 3, 4, 6], [5, 7], [0, 1, 6, 8], [2, 7]]\n",
    "\n",
    "\n",
    "from itertools import combinations \n",
    "\n",
    "cities_number = len(list_of_lists)\n",
    "research_centers_number = 2\n",
    "\n",
    "city_dict = {}\n",
    "cities_list = range(0,cities_number)\n",
    "possible_rec_combs_tuple = (combinations(cities_list, research_centers_number))\n",
    "possible_rec_combs = [list(i) for i in possible_rec_combs_tuple]\n",
    "\n",
    "best_score = 99\n",
    "for rec_comb in list(possible_rec_combs):\n",
    "    print ((rec_comb))\n",
    "    \n",
    "    city_dist = []\n",
    "    for city in cities_list:\n",
    "        min_dist = 99\n",
    "        for rec in rec_comb:\n",
    "#             print(f'city {city} rec {rec}')\n",
    "            dist = minEdgeBFS(list_of_lists, city, rec, cities_number)\n",
    "            if dist<min_dist:\n",
    "                min_dist = dist\n",
    "#         print(f'min dist for {city} is {min_dist}')\n",
    "        city_dist.append(min_dist)\n",
    "#     print(city_dist)\n",
    "    city_dict[str(rec_comb)]=city_dist\n",
    "    config_score = sum(city_dist) # Lower is better\n",
    "    if best_score>config_score:\n",
    "        best_score = config_score\n",
    "        best_comb = rec_comb\n",
    "    print(f'Score is {config_score}')\n",
    "print(f'Best score is {best_score}, for config {best_comb}. The distance is {city_dict[str(best_comb)]}')\n",
    "\n",
    "\n"
   ]
  },
  {
   "cell_type": "code",
   "execution_count": null,
   "metadata": {
    "hidden": true
   },
   "outputs": [],
   "source": []
  },
  {
   "cell_type": "code",
   "execution_count": null,
   "metadata": {
    "hidden": true
   },
   "outputs": [],
   "source": []
  },
  {
   "cell_type": "markdown",
   "metadata": {},
   "source": [
    "# Final"
   ]
  },
  {
   "cell_type": "markdown",
   "metadata": {},
   "source": [
    "Choosing 1 centers in 48 cities - 48 variations - 659 ms\n",
    "\n",
    "Choosing 2 centers in 48 cities - 1128 variations - 30 seconds\n",
    "\n",
    "Choosing 3 centers in 48 cities - 17296 variations - 460 seconds\n",
    "\n",
    "Choosing 4 centers in 48 cities - 194580 variations - 5175 seconds (1.4375 hours)\n",
    "\n",
    "Choosing 5 centers in 48 cities - 1712304 variations - 45540 seconds (12.65 hours)\n",
    "\n",
    "Choosing 6 centers in 48 cities - 12271512 variations - 326370 seconds (90.65 hours)(3.78 days)\n"
   ]
  },
  {
   "cell_type": "code",
   "execution_count": 1,
   "metadata": {
    "ExecuteTime": {
     "end_time": "2020-10-07T02:13:13.056732Z",
     "start_time": "2020-10-07T02:13:13.053979Z"
    }
   },
   "outputs": [],
   "source": [
    "import queue  \n",
    "from itertools import combinations "
   ]
  },
  {
   "cell_type": "code",
   "execution_count": 2,
   "metadata": {
    "ExecuteTime": {
     "end_time": "2020-10-07T02:13:14.106032Z",
     "start_time": "2020-10-07T02:13:14.099338Z"
    }
   },
   "outputs": [],
   "source": [
    "def minEdgeBFS(edges, u, v, n): \n",
    "      \n",
    "    # visited[n] for keeping track  \n",
    "    # of visited node in BFS  \n",
    "    visited = [0] * n  \n",
    "  \n",
    "    # Initialize distances as 0  \n",
    "    distance = [0] * n \n",
    "  \n",
    "    # queue to do BFS.  \n",
    "    Q = queue.Queue() \n",
    "    distance[u] = 0\n",
    "  \n",
    "    Q.put(u)  \n",
    "    visited[u] = True\n",
    "    while (not Q.empty()): \n",
    "        x = Q.get()  \n",
    "          \n",
    "        for i in range(len(edges[x])): \n",
    "            if (visited[edges[x][i]]): \n",
    "                continue\n",
    "  \n",
    "            # update distance for i  \n",
    "            distance[edges[x][i]] = distance[x] + 1\n",
    "            Q.put(edges[x][i])  \n",
    "            visited[edges[x][i]] = 1\n",
    "\n",
    "    return distance[v] "
   ]
  },
  {
   "cell_type": "code",
   "execution_count": 3,
   "metadata": {
    "ExecuteTime": {
     "end_time": "2020-10-07T02:13:17.163396Z",
     "start_time": "2020-10-07T02:13:17.156886Z"
    }
   },
   "outputs": [],
   "source": [
    "# Create the world\n",
    "\n",
    "place_names = {0:'Atlanta',1:'San Francisco',2:'Chicago',3:'Montreal',4:'New York',5:'Washington',\n",
    "               6:'Los Angeles',7:'Mexico City',8:'Miami',9:'Bogota',10:'Lima',11:'Santiago',12:'Buenos Aires',\n",
    "               13:'Sao Paulo',14:'Lagos',15:'Khartoum',16:'Kinshasa',17:'Johannesburg',18:'London',\n",
    "               19:'Essen',20:'St Petersburg',21:'Madrid',22:'Paris',23:'Milan',24:'Algiers',\n",
    "               25:'Istanbul',26:'Moscow',27:'Cairo',28:'Baghdad',29:'Tehran',30:'Riyadh',\n",
    "               31:'Karachi',32:'Delhi',33:'Mumbai',34:'Chennai',35:'Kolkata',36:'Bangkok',\n",
    "               37:'Jakarta',38:'Ho Chi Minh City',39:'Hong Kong',40:'Sydney',41:'Manila',\n",
    "               42:'Shanghai',43:'Beijing',44:'Seuol',45:'Tokyo',46:'Osaka',47:'Taipei'\n",
    "    \n",
    "}\n",
    "\n",
    "\n"
   ]
  },
  {
   "cell_type": "code",
   "execution_count": 4,
   "metadata": {
    "ExecuteTime": {
     "end_time": "2020-10-07T02:13:18.120248Z",
     "start_time": "2020-10-07T02:13:18.116685Z"
    }
   },
   "outputs": [],
   "source": [
    "def connect(world, u, v): \n",
    "    if v not in world[u]:\n",
    "        world[u].append(v) \n",
    "    if u not in world[v]:\n",
    "        world[v].append(u) "
   ]
  },
  {
   "cell_type": "code",
   "execution_count": 5,
   "metadata": {
    "ExecuteTime": {
     "end_time": "2020-10-07T02:13:19.755958Z",
     "start_time": "2020-10-07T02:13:19.733047Z"
    }
   },
   "outputs": [
    {
     "name": "stdout",
     "output_type": "stream",
     "text": [
      "world [[2, 5, 8], [2, 45, 41, 6], [0, 1, 6, 3, 7], [2, 4, 5], [3, 18, 21, 5], [0, 3, 4, 8], [1, 2, 7, 40], [2, 6, 8, 9, 10], [0, 5, 7, 9], [7, 8, 10, 12, 13], [7, 9, 11], [10], [9, 13], [9, 12, 14, 21], [13, 15, 16], [14, 27, 16, 17], [14, 15, 17], [15, 16], [4, 19, 22, 21], [18, 22, 23, 20], [19, 25, 26], [4, 13, 18, 22, 24], [18, 19, 21, 23, 24], [19, 22, 25], [21, 22, 25, 27], [20, 23, 24, 26, 27, 28], [20, 25, 29], [15, 24, 25, 28, 30], [25, 27, 29, 30, 31], [26, 28, 31, 32], [27, 28, 31], [28, 29, 30, 32, 33], [29, 31, 33, 34, 35], [31, 32, 34], [32, 33, 35, 36, 37], [32, 34, 36, 39], [34, 35, 37, 38, 39], [34, 36, 38, 40], [36, 37, 39, 41], [35, 36, 38, 42, 47, 41], [6, 37, 41], [1, 38, 39, 40, 47], [39, 43, 44, 45, 47], [42, 44], [42, 43, 45], [1, 42, 44, 46], [45, 47], [39, 41, 42, 46]]\n"
     ]
    }
   ],
   "source": [
    "# Connect the world \n",
    "n = len(place_names)\n",
    "world = [[] for i in range(n)] \n",
    "    \n",
    "connect(world, 0,2) \n",
    "connect(world, 0,5)  \n",
    "connect(world, 0,8)  \n",
    "connect(world, 1,2)  \n",
    "connect(world, 1,45)\n",
    "connect(world, 1,41)\n",
    "connect(world, 1,6)\n",
    "connect(world, 2,6)\n",
    "connect(world, 2,3)\n",
    "connect(world, 2,7)\n",
    "connect(world, 3,4)\n",
    "connect(world, 3,5)\n",
    "connect(world, 4,18)\n",
    "connect(world, 4,21)\n",
    "connect(world, 4,5)\n",
    "connect(world, 5,8)\n",
    "connect(world, 6,7)\n",
    "connect(world, 6,40)\n",
    "connect(world, 7,8)\n",
    "connect(world, 7,9)\n",
    "connect(world, 7,10)\n",
    "connect(world, 8,9)\n",
    "connect(world, 9,10)\n",
    "connect(world, 9,12)\n",
    "connect(world, 9,13)\n",
    "connect(world, 10,11)\n",
    "connect(world, 12,13)\n",
    "connect(world, 13,14)\n",
    "connect(world, 13,21)\n",
    "connect(world, 14,15)\n",
    "connect(world, 14,16)\n",
    "connect(world, 15,27)\n",
    "connect(world, 15,16)\n",
    "connect(world, 15,17)\n",
    "connect(world, 16,17)\n",
    "connect(world, 18,19)\n",
    "connect(world, 18,22)\n",
    "connect(world, 18,21)\n",
    "connect(world, 19,22)\n",
    "connect(world, 19,23)\n",
    "connect(world, 19,20)\n",
    "connect(world, 20,25)\n",
    "connect(world, 20,26)\n",
    "connect(world, 21,22)\n",
    "connect(world, 21,24)\n",
    "connect(world, 22,23)\n",
    "connect(world, 22,24)\n",
    "connect(world, 23,25)\n",
    "connect(world, 24,25)\n",
    "connect(world, 24,27)\n",
    "connect(world, 25,26)\n",
    "connect(world, 25,27)\n",
    "connect(world, 25,28)\n",
    "connect(world, 26,29)\n",
    "connect(world, 27,28)\n",
    "connect(world, 27,30)\n",
    "connect(world, 28,29)\n",
    "connect(world, 28,30)\n",
    "connect(world, 28,31)\n",
    "connect(world, 29,31)\n",
    "connect(world, 29,32)\n",
    "connect(world, 30,31)\n",
    "connect(world, 31,32)\n",
    "connect(world, 31,33)\n",
    "connect(world, 32,33)\n",
    "connect(world, 32,34)\n",
    "connect(world, 32,35)\n",
    "connect(world, 33,34)\n",
    "connect(world, 34,35)\n",
    "connect(world, 34,36)\n",
    "connect(world, 34,37)\n",
    "connect(world, 35,36)\n",
    "connect(world, 35,39)\n",
    "connect(world, 36,37)\n",
    "connect(world, 36,38)\n",
    "connect(world, 36,39)\n",
    "connect(world, 37,38)\n",
    "connect(world, 37,40)\n",
    "connect(world, 38,39)\n",
    "connect(world, 38,41)\n",
    "connect(world, 39,42)\n",
    "connect(world, 39,47)\n",
    "connect(world, 39,41)\n",
    "connect(world, 40,41)\n",
    "connect(world, 41,47)\n",
    "connect(world, 42,43)\n",
    "connect(world, 42,44)\n",
    "connect(world, 42,45)\n",
    "connect(world, 42,47)\n",
    "connect(world, 43,44)\n",
    "connect(world, 44,45)\n",
    "connect(world, 45,46)\n",
    "connect(world, 46,47)\n",
    "\n",
    "\n",
    "print(f'world {world}')"
   ]
  },
  {
   "cell_type": "code",
   "execution_count": 6,
   "metadata": {
    "ExecuteTime": {
     "end_time": "2020-10-07T02:13:23.018770Z",
     "start_time": "2020-10-07T02:13:23.012768Z"
    },
    "scrolled": false
   },
   "outputs": [
    {
     "name": "stdout",
     "output_type": "stream",
     "text": [
      "Atlanta - 3\n",
      "San Francisco - 4\n",
      "Chicago - 5\n",
      "Montreal - 3\n",
      "New York - 4\n",
      "Washington - 4\n",
      "Los Angeles - 4\n",
      "Mexico City - 5\n",
      "Miami - 4\n",
      "Bogota - 5\n",
      "Lima - 3\n",
      "Santiago - 1\n",
      "Buenos Aires - 2\n",
      "Sao Paulo - 4\n",
      "Lagos - 3\n",
      "Khartoum - 4\n",
      "Kinshasa - 3\n",
      "Johannesburg - 2\n",
      "London - 4\n",
      "Essen - 4\n",
      "St Petersburg - 3\n",
      "Madrid - 5\n",
      "Paris - 5\n",
      "Milan - 3\n",
      "Algiers - 4\n",
      "Istanbul - 6\n",
      "Moscow - 3\n",
      "Cairo - 5\n",
      "Baghdad - 5\n",
      "Tehran - 4\n",
      "Riyadh - 3\n",
      "Karachi - 5\n",
      "Delhi - 5\n",
      "Mumbai - 3\n",
      "Chennai - 5\n",
      "Kolkata - 4\n",
      "Bangkok - 5\n",
      "Jakarta - 4\n",
      "Ho Chi Minh City - 4\n",
      "Hong Kong - 6\n",
      "Sydney - 3\n",
      "Manila - 5\n",
      "Shanghai - 5\n",
      "Beijing - 2\n",
      "Seuol - 3\n",
      "Tokyo - 4\n",
      "Osaka - 2\n",
      "Taipei - 4\n"
     ]
    }
   ],
   "source": [
    "# Validating connections\n",
    "\n",
    "for i,j in enumerate(world):\n",
    "    print(f'{place_names[i]} - {len(j)}')\n"
   ]
  },
  {
   "cell_type": "code",
   "execution_count": 28,
   "metadata": {
    "ExecuteTime": {
     "end_time": "2020-10-07T13:48:31.303928Z",
     "start_time": "2020-10-07T13:48:00.633933Z"
    }
   },
   "outputs": [
    {
     "name": "stdout",
     "output_type": "stream",
     "text": [
      "Another option is [0, 2, 1, 2, 2, 1, 2, 2, 1, 1, 2, 3, 1, 0, 1, 2, 2, 3, 2, 3, 4, 1, 2, 3, 2, 3, 4, 3, 4, 5, 4, 5, 6, 6, 5, 5, 5, 4, 4, 4, 3, 3, 4, 5, 4, 3, 4, 4] with score 142\n",
      "Another option is [0, 2, 1, 2, 2, 1, 2, 2, 1, 2, 3, 4, 3, 3, 2, 1, 2, 2, 3, 3, 2, 2, 2, 2, 1, 1, 2, 0, 1, 2, 1, 2, 3, 3, 4, 4, 5, 4, 4, 4, 3, 3, 4, 5, 4, 3, 4, 4] with score 120\n",
      "Best score is 100, for config [21, 39]. The distance is [3, 2, 3, 2, 1, 2, 3, 3, 3, 2, 3, 4, 2, 1, 2, 3, 3, 4, 1, 2, 3, 0, 1, 2, 1, 2, 3, 2, 3, 3, 3, 3, 2, 3, 2, 1, 1, 2, 1, 0, 2, 1, 1, 2, 2, 2, 2, 1]\n"
     ]
    }
   ],
   "source": [
    "research_centers_number = 2\n",
    "# DO NOT RUN IF THIS NUMBER IS 3 OR GREATER\n",
    "\n",
    "cities_number = len(world)\n",
    "city_dict = {}\n",
    "cities_list = range(0,cities_number)\n",
    "possible_rec_combs_tuple = (combinations(cities_list, research_centers_number))\n",
    "possible_rec_combs = [list(i) for i in possible_rec_combs_tuple]\n",
    "\n",
    "best_score = 99999\n",
    "for rec_comb in list(possible_rec_combs):\n",
    "    city_dist = []\n",
    "    for city in cities_list:\n",
    "        min_dist = 99\n",
    "        for rec in rec_comb:\n",
    "            dist = minEdgeBFS(world, city, rec, cities_number)\n",
    "            if dist<min_dist:\n",
    "                min_dist = dist\n",
    "        city_dist.append(min_dist)\n",
    "    city_dict[str(rec_comb)]=city_dist\n",
    "    config_score = sum(city_dist) # Lower is better\n",
    "    if best_score>config_score:\n",
    "        best_score = config_score\n",
    "        best_comb = rec_comb\n",
    "#     elif best_score==config_score:\n",
    "#         print(f'Another option is {city_dict[str(best_comb)]} with score {config_score}')\n",
    "print(f'Best score is {best_score}, for config {best_comb}. The distance is {city_dict[str(best_comb)]}')"
   ]
  },
  {
   "cell_type": "code",
   "execution_count": 29,
   "metadata": {
    "ExecuteTime": {
     "end_time": "2020-10-07T13:48:31.364821Z",
     "start_time": "2020-10-07T13:48:31.359717Z"
    }
   },
   "outputs": [
    {
     "name": "stdout",
     "output_type": "stream",
     "text": [
      "We need research centers in ['Madrid', 'Hong Kong']. \n",
      "This combination scores 100.\n",
      "Distance to each city is: \n",
      "[3, 2, 3, 2, 1, 2, 3, 3, 3, 2, 3, 4, 2, 1, 2, 3, 3, 4, 1, 2, 3, 0, 1, 2, 1, 2, 3, 2, 3, 3, 3, 3, 2, 3, 2, 1, 1, 2, 1, 0, 2, 1, 1, 2, 2, 2, 2, 1]\n"
     ]
    }
   ],
   "source": [
    "# Output\n",
    "print(f'We need research centers in {[place_names[i] for i in best_comb]}. \\nThis combination scores {best_score}.\\\n",
    "\\nDistance to each city is: \\n{city_dict[str(best_comb)]}')"
   ]
  },
  {
   "cell_type": "code",
   "execution_count": null,
   "metadata": {},
   "outputs": [],
   "source": []
  },
  {
   "cell_type": "code",
   "execution_count": null,
   "metadata": {},
   "outputs": [],
   "source": []
  },
  {
   "cell_type": "markdown",
   "metadata": {},
   "source": [
    "## Rough\n"
   ]
  },
  {
   "cell_type": "code",
   "execution_count": null,
   "metadata": {
    "ExecuteTime": {
     "end_time": "2020-10-06T22:45:14.618280Z",
     "start_time": "2020-10-06T22:45:14.612755Z"
    }
   },
   "outputs": [],
   "source": [
    "def tes(a, u, v): \n",
    "    if v not in a[u]:\n",
    "        a[u].append(v) \n",
    "    else:\n",
    "        print('here')\n",
    "    if u not in a[v]:\n",
    "        a[v].append(u) \n",
    "    else:\n",
    "        print('or here')\n",
    "a = [[] for i in range(9)]\n",
    "tes(a,1,2)\n",
    "tes(a,1,2)\n",
    "\n",
    "\n",
    "print(a)"
   ]
  },
  {
   "cell_type": "code",
   "execution_count": null,
   "metadata": {},
   "outputs": [],
   "source": []
  }
 ],
 "metadata": {
  "kernelspec": {
   "display_name": "Python 3",
   "language": "python",
   "name": "python3"
  },
  "language_info": {
   "codemirror_mode": {
    "name": "ipython",
    "version": 3
   },
   "file_extension": ".py",
   "mimetype": "text/x-python",
   "name": "python",
   "nbconvert_exporter": "python",
   "pygments_lexer": "ipython3",
   "version": "3.7.1"
  },
  "toc": {
   "base_numbering": 1,
   "nav_menu": {},
   "number_sections": false,
   "sideBar": true,
   "skip_h1_title": false,
   "title_cell": "Table of Contents",
   "title_sidebar": "Contents",
   "toc_cell": false,
   "toc_position": {},
   "toc_section_display": true,
   "toc_window_display": false
  },
  "varInspector": {
   "cols": {
    "lenName": "25",
    "lenType": "25",
    "lenVar": "60"
   },
   "kernels_config": {
    "python": {
     "delete_cmd_postfix": "",
     "delete_cmd_prefix": "del ",
     "library": "var_list.py",
     "varRefreshCmd": "print(var_dic_list())"
    },
    "r": {
     "delete_cmd_postfix": ") ",
     "delete_cmd_prefix": "rm(",
     "library": "var_list.r",
     "varRefreshCmd": "cat(var_dic_list()) "
    }
   },
   "types_to_exclude": [
    "module",
    "function",
    "builtin_function_or_method",
    "instance",
    "_Feature"
   ],
   "window_display": false
  }
 },
 "nbformat": 4,
 "nbformat_minor": 2
}

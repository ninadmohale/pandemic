{
 "cells": [
  {
   "cell_type": "markdown",
   "metadata": {},
   "source": [
    "# Pandemic - Optimum Research Center Locations"
   ]
  },
  {
   "cell_type": "markdown",
   "metadata": {},
   "source": [
    "This code calculates the optimum research center locations in the board game Pandemic.\n",
    "\n",
    "Optimum reseach centers are such that all cities are as close as they can be from the nearest research center.\n",
    "\n",
    "The board game has 48 cities. One can choose to build up to 6 research centers. To study all configurations, one must look at all possible combinations of research centers - 48C6 variations!\n",
    "\n"
   ]
  },
  {
   "cell_type": "markdown",
   "metadata": {},
   "source": [
    "Choosing 1 centers in 48 cities - 48 variations\n",
    "\n",
    "Choosing 2 centers in 48 cities - 1128 variations\n",
    "\n",
    "Choosing 3 centers in 48 cities - 17296 variations\n",
    "\n",
    "Choosing 4 centers in 48 cities - 194580 variations\n",
    "\n",
    "Choosing 5 centers in 48 cities - 1712304 variations\n",
    "\n",
    "Choosing 6 centers in 48 cities - 12271512 variations\n"
   ]
  },
  {
   "cell_type": "markdown",
   "metadata": {
    "ExecuteTime": {
     "end_time": "2020-10-08T19:51:17.430033Z",
     "start_time": "2020-10-08T19:51:17.427790Z"
    }
   },
   "source": [
    "## Creating the world (and connecting it!)"
   ]
  },
  {
   "cell_type": "markdown",
   "metadata": {},
   "source": [
    "Our python code uses numbers to associate with cities. So I created a dictionary to keep a track of cities.\n",
    "\n"
   ]
  },
  {
   "cell_type": "code",
   "execution_count": 1,
   "metadata": {
    "ExecuteTime": {
     "end_time": "2020-10-08T20:31:01.119248Z",
     "start_time": "2020-10-08T20:31:01.112695Z"
    }
   },
   "outputs": [],
   "source": [
    "\n",
    "place_names = {0:'Atlanta',1:'San Francisco',2:'Chicago',3:'Montreal',4:'New York',5:'Washington',\n",
    "               6:'Los Angeles',7:'Mexico City',8:'Miami',9:'Bogota',10:'Lima',11:'Santiago',12:'Buenos Aires',\n",
    "               13:'Sao Paulo',14:'Lagos',15:'Khartoum',16:'Kinshasa',17:'Johannesburg',18:'London',\n",
    "               19:'Essen',20:'St Petersburg',21:'Madrid',22:'Paris',23:'Milan',24:'Algiers',\n",
    "               25:'Istanbul',26:'Moscow',27:'Cairo',28:'Baghdad',29:'Tehran',30:'Riyadh',\n",
    "               31:'Karachi',32:'Delhi',33:'Mumbai',34:'Chennai',35:'Kolkata',36:'Bangkok',\n",
    "               37:'Jakarta',38:'Ho Chi Minh City',39:'Hong Kong',40:'Sydney',41:'Manila',\n",
    "               42:'Shanghai',43:'Beijing',44:'Seuol',45:'Tokyo',46:'Osaka',47:'Taipei'\n",
    "    \n",
    "}"
   ]
  },
  {
   "cell_type": "markdown",
   "metadata": {},
   "source": [
    "We will create a list of lists such that if Atlanta (which is '0') is connected to Chicago('2'), Washington('5') and Miami('8'), then world[0]=[2,5,8]\n",
    "\n",
    "To make it easier to connect cities, I defined a connect function"
   ]
  },
  {
   "cell_type": "code",
   "execution_count": 2,
   "metadata": {
    "ExecuteTime": {
     "end_time": "2020-10-08T20:31:02.490371Z",
     "start_time": "2020-10-08T20:31:02.486919Z"
    }
   },
   "outputs": [],
   "source": [
    "def connect(world, u, v): \n",
    "    if v not in world[u]:\n",
    "        world[u].append(v) \n",
    "    if u not in world[v]:\n",
    "        world[v].append(u) "
   ]
  },
  {
   "cell_type": "code",
   "execution_count": 3,
   "metadata": {
    "ExecuteTime": {
     "end_time": "2020-10-08T20:31:04.206452Z",
     "start_time": "2020-10-08T20:31:04.183990Z"
    }
   },
   "outputs": [
    {
     "name": "stdout",
     "output_type": "stream",
     "text": [
      "world [[2, 5, 8], [2, 45, 41, 6], [0, 1, 6, 3, 7], [2, 4, 5], [3, 18, 21, 5], [0, 3, 4, 8], [1, 2, 7, 40], [2, 6, 8, 9, 10], [0, 5, 7, 9], [7, 8, 10, 12, 13], [7, 9, 11], [10], [9, 13], [9, 12, 14, 21], [13, 15, 16], [14, 27, 16, 17], [14, 15, 17], [15, 16], [4, 19, 22, 21], [18, 22, 23, 20], [19, 25, 26], [4, 13, 18, 22, 24], [18, 19, 21, 23, 24], [19, 22, 25], [21, 22, 25, 27], [20, 23, 24, 26, 27, 28], [20, 25, 29], [15, 24, 25, 28, 30], [25, 27, 29, 30, 31], [26, 28, 31, 32], [27, 28, 31], [28, 29, 30, 32, 33], [29, 31, 33, 34, 35], [31, 32, 34], [32, 33, 35, 36, 37], [32, 34, 36, 39], [34, 35, 37, 38, 39], [34, 36, 38, 40], [36, 37, 39, 41], [35, 36, 38, 42, 47, 41], [6, 37, 41], [1, 38, 39, 40, 47], [39, 43, 44, 45, 47], [42, 44], [42, 43, 45], [1, 42, 44, 46], [45, 47], [39, 41, 42, 46]]\n"
     ]
    }
   ],
   "source": [
    "# Connect the world \n",
    "n = len(place_names)\n",
    "world = [[] for i in range(n)] \n",
    "    \n",
    "connect(world, 0,2) \n",
    "connect(world, 0,5)  \n",
    "connect(world, 0,8)  \n",
    "connect(world, 1,2)  \n",
    "connect(world, 1,45)\n",
    "connect(world, 1,41)\n",
    "connect(world, 1,6)\n",
    "connect(world, 2,6)\n",
    "connect(world, 2,3)\n",
    "connect(world, 2,7)\n",
    "connect(world, 3,4)\n",
    "connect(world, 3,5)\n",
    "connect(world, 4,18)\n",
    "connect(world, 4,21)\n",
    "connect(world, 4,5)\n",
    "connect(world, 5,8)\n",
    "connect(world, 6,7)\n",
    "connect(world, 6,40)\n",
    "connect(world, 7,8)\n",
    "connect(world, 7,9)\n",
    "connect(world, 7,10)\n",
    "connect(world, 8,9)\n",
    "connect(world, 9,10)\n",
    "connect(world, 9,12)\n",
    "connect(world, 9,13)\n",
    "connect(world, 10,11)\n",
    "connect(world, 12,13)\n",
    "connect(world, 13,14)\n",
    "connect(world, 13,21)\n",
    "connect(world, 14,15)\n",
    "connect(world, 14,16)\n",
    "connect(world, 15,27)\n",
    "connect(world, 15,16)\n",
    "connect(world, 15,17)\n",
    "connect(world, 16,17)\n",
    "connect(world, 18,19)\n",
    "connect(world, 18,22)\n",
    "connect(world, 18,21)\n",
    "connect(world, 19,22)\n",
    "connect(world, 19,23)\n",
    "connect(world, 19,20)\n",
    "connect(world, 20,25)\n",
    "connect(world, 20,26)\n",
    "connect(world, 21,22)\n",
    "connect(world, 21,24)\n",
    "connect(world, 22,23)\n",
    "connect(world, 22,24)\n",
    "connect(world, 23,25)\n",
    "connect(world, 24,25)\n",
    "connect(world, 24,27)\n",
    "connect(world, 25,26)\n",
    "connect(world, 25,27)\n",
    "connect(world, 25,28)\n",
    "connect(world, 26,29)\n",
    "connect(world, 27,28)\n",
    "connect(world, 27,30)\n",
    "connect(world, 28,29)\n",
    "connect(world, 28,30)\n",
    "connect(world, 28,31)\n",
    "connect(world, 29,31)\n",
    "connect(world, 29,32)\n",
    "connect(world, 30,31)\n",
    "connect(world, 31,32)\n",
    "connect(world, 31,33)\n",
    "connect(world, 32,33)\n",
    "connect(world, 32,34)\n",
    "connect(world, 32,35)\n",
    "connect(world, 33,34)\n",
    "connect(world, 34,35)\n",
    "connect(world, 34,36)\n",
    "connect(world, 34,37)\n",
    "connect(world, 35,36)\n",
    "connect(world, 35,39)\n",
    "connect(world, 36,37)\n",
    "connect(world, 36,38)\n",
    "connect(world, 36,39)\n",
    "connect(world, 37,38)\n",
    "connect(world, 37,40)\n",
    "connect(world, 38,39)\n",
    "connect(world, 38,41)\n",
    "connect(world, 39,42)\n",
    "connect(world, 39,47)\n",
    "connect(world, 39,41)\n",
    "connect(world, 40,41)\n",
    "connect(world, 41,47)\n",
    "connect(world, 42,43)\n",
    "connect(world, 42,44)\n",
    "connect(world, 42,45)\n",
    "connect(world, 42,47)\n",
    "connect(world, 43,44)\n",
    "connect(world, 44,45)\n",
    "connect(world, 45,46)\n",
    "connect(world, 46,47)\n",
    "\n",
    "\n",
    "print(f'world {world}')"
   ]
  },
  {
   "cell_type": "markdown",
   "metadata": {},
   "source": [
    "Clearly, it is difficult to verify from this list that we have added all connections. So I wrote a quick for loop to display all connections that each city has.\n",
    "\n",
    "One can now quickly verify that all connections are added."
   ]
  },
  {
   "cell_type": "code",
   "execution_count": 4,
   "metadata": {
    "ExecuteTime": {
     "end_time": "2020-10-08T20:31:07.933685Z",
     "start_time": "2020-10-08T20:31:07.927810Z"
    },
    "scrolled": false
   },
   "outputs": [
    {
     "name": "stdout",
     "output_type": "stream",
     "text": [
      "Atlanta - 3\n",
      "San Francisco - 4\n",
      "Chicago - 5\n",
      "Montreal - 3\n",
      "New York - 4\n",
      "Washington - 4\n",
      "Los Angeles - 4\n",
      "Mexico City - 5\n",
      "Miami - 4\n",
      "Bogota - 5\n",
      "Lima - 3\n",
      "Santiago - 1\n",
      "Buenos Aires - 2\n",
      "Sao Paulo - 4\n",
      "Lagos - 3\n",
      "Khartoum - 4\n",
      "Kinshasa - 3\n",
      "Johannesburg - 2\n",
      "London - 4\n",
      "Essen - 4\n",
      "St Petersburg - 3\n",
      "Madrid - 5\n",
      "Paris - 5\n",
      "Milan - 3\n",
      "Algiers - 4\n",
      "Istanbul - 6\n",
      "Moscow - 3\n",
      "Cairo - 5\n",
      "Baghdad - 5\n",
      "Tehran - 4\n",
      "Riyadh - 3\n",
      "Karachi - 5\n",
      "Delhi - 5\n",
      "Mumbai - 3\n",
      "Chennai - 5\n",
      "Kolkata - 4\n",
      "Bangkok - 5\n",
      "Jakarta - 4\n",
      "Ho Chi Minh City - 4\n",
      "Hong Kong - 6\n",
      "Sydney - 3\n",
      "Manila - 5\n",
      "Shanghai - 5\n",
      "Beijing - 2\n",
      "Seuol - 3\n",
      "Tokyo - 4\n",
      "Osaka - 2\n",
      "Taipei - 4\n"
     ]
    }
   ],
   "source": [
    "# Validating connections\n",
    "\n",
    "for i,j in enumerate(world):\n",
    "    print(f'{place_names[i]} - {len(j)}')\n"
   ]
  },
  {
   "cell_type": "markdown",
   "metadata": {},
   "source": [
    "## Defining functions"
   ]
  },
  {
   "cell_type": "code",
   "execution_count": 5,
   "metadata": {
    "ExecuteTime": {
     "end_time": "2020-10-08T20:31:10.122583Z",
     "start_time": "2020-10-08T20:31:10.119563Z"
    }
   },
   "outputs": [],
   "source": [
    "import queue  \n",
    "from itertools import combinations \n",
    "from datetime import datetime"
   ]
  },
  {
   "cell_type": "markdown",
   "metadata": {},
   "source": [
    "I started off with a basic BFS. It was incredibly slow - 6 research centers would have taken 4+ days!\n",
    "\n",
    "So I created a dict with distances of all cities from all cities"
   ]
  },
  {
   "cell_type": "code",
   "execution_count": 6,
   "metadata": {
    "ExecuteTime": {
     "end_time": "2020-10-08T20:31:13.117552Z",
     "start_time": "2020-10-08T20:31:13.111565Z"
    }
   },
   "outputs": [],
   "source": [
    "# Function that calculates minimum distance between 2 cities\n",
    "def BFS(world, u, v): \n",
    "    n = len(world)\n",
    "    # visited[n] for keeping track  \n",
    "    # of visited node in BFS  \n",
    "    visited = [0] * n  \n",
    "  \n",
    "    # Initialize distances as 0  \n",
    "    distance = [0] * n \n",
    "  \n",
    "    # queue to do BFS.  \n",
    "    Q = queue.Queue() \n",
    "    distance[u] = 0\n",
    "  \n",
    "    Q.put(u)  \n",
    "    visited[u] = True\n",
    "    while (not Q.empty()): \n",
    "        x = Q.get()  \n",
    "          \n",
    "        for i in world[x]: \n",
    "            if visited[i]: \n",
    "                continue\n",
    "  \n",
    "            # update distance for i  \n",
    "            distance[i] = distance[x] + 1\n",
    "            Q.put(i)  \n",
    "            visited[i] = 1\n",
    "\n",
    "    return distance[v] "
   ]
  },
  {
   "cell_type": "code",
   "execution_count": 7,
   "metadata": {
    "ExecuteTime": {
     "end_time": "2020-10-08T20:31:15.945523Z",
     "start_time": "2020-10-08T20:31:15.383314Z"
    }
   },
   "outputs": [
    {
     "name": "stdout",
     "output_type": "stream",
     "text": [
      "Distance between Washington and Essen is 3\n"
     ]
    }
   ],
   "source": [
    "# Creating dict with all distances\n",
    "distdict = {}\n",
    "n = 48 # Number of cities in the game\n",
    "for i in range(n):\n",
    "    for j in range(n):\n",
    "        if i==j:\n",
    "            distdict[f'{i},{j}']=0\n",
    "            continue\n",
    "        distdict[f'{i},{j}']=BFS(world, i, j)\n",
    "        \n",
    "        \n",
    "print(f\"Distance between {place_names[5]} and {place_names[19]} is {distdict['5,19']}\")     "
   ]
  },
  {
   "cell_type": "markdown",
   "metadata": {},
   "source": [
    "Now that we got distances of all cities from all cities in the form of a dictionary, it was time to write a function to get minimum distance of a city from the nearest recearch center!\n",
    "\n",
    "This function will be called again and again in the main code."
   ]
  },
  {
   "cell_type": "code",
   "execution_count": 8,
   "metadata": {
    "ExecuteTime": {
     "end_time": "2020-10-08T20:31:17.796638Z",
     "start_time": "2020-10-08T20:31:17.791424Z"
    }
   },
   "outputs": [
    {
     "name": "stdout",
     "output_type": "stream",
     "text": [
      "If there are research centers in Madrid and Chennai,\n",
      "then the minimum distance from Santiago to a research center is 4\n"
     ]
    }
   ],
   "source": [
    "\n",
    "def gimmi_dist(strt,recs,distdict):\n",
    "    min_d = 99\n",
    "    for i in recs:\n",
    "        dist = distdict[f'{strt},{i}']\n",
    "        if min_d>dist:\n",
    "            min_d=dist\n",
    "    return min_d\n",
    "\n",
    "print(f'If there are research centers in {place_names[21]} and {place_names[34]},\\n\\\n",
    "then the minimum distance from {place_names[11]} to a research center is {gimmi_dist(11,[21,34],distdict)}')\n"
   ]
  },
  {
   "cell_type": "markdown",
   "metadata": {},
   "source": [
    "Honourable mention - this was my old approach. For each city, I was calculating the distance to the nearest research center by BFS. This code was being called again and again in the main code, and that made it really slow.\n",
    "\n",
    "**This block is not needed for this code to run.**"
   ]
  },
  {
   "cell_type": "code",
   "execution_count": 9,
   "metadata": {
    "ExecuteTime": {
     "end_time": "2020-10-08T20:31:23.696901Z",
     "start_time": "2020-10-08T20:31:23.688866Z"
    }
   },
   "outputs": [
    {
     "name": "stdout",
     "output_type": "stream",
     "text": [
      "If there are research centers in Madrid and Chennai,\n",
      "then the minimum distance from Santiago to a research center is 4\n"
     ]
    }
   ],
   "source": [
    "# This function is NOT needed for this code to run\n",
    "def optimumbfs(world,strt,recs):\n",
    "    # visited[n] for keeping track  \n",
    "    # of visited node in BFS  \n",
    "    n = len(world)\n",
    "    visited = [0] * n  \n",
    "  \n",
    "    # Initialize distances as 0  \n",
    "    distance = [0] * n \n",
    "  \n",
    "    # queue to do BFS.  \n",
    "    Q = queue.Queue() \n",
    "    distance[strt] = 0\n",
    "  \n",
    "    Q.put(strt)  \n",
    "    visited[strt] = True\n",
    "    flag = False\n",
    "    while (not Q.empty()) and (not flag): \n",
    "        x = Q.get()  \n",
    "          \n",
    "        for i in world[x]: \n",
    "            if visited[i]: \n",
    "                continue\n",
    "  \n",
    "            # update distance for i  \n",
    "            distance[i] = distance[x] + 1\n",
    "            Q.put(i)  \n",
    "            visited[i] = 1\n",
    "            \n",
    "            if i in recs:\n",
    "                flag = True\n",
    "                distret = distance[i]\n",
    "                break\n",
    "            \n",
    "            \n",
    "\n",
    "    return distret\n",
    "\n",
    "# This above function is NOT needed for this code to run\n",
    "\n",
    "print(f'If there are research centers in {place_names[21]} and {place_names[34]},\\n\\\n",
    "then the minimum distance from {place_names[11]} to a research center is {optimumbfs(world,11,[21,34])}')"
   ]
  },
  {
   "cell_type": "markdown",
   "metadata": {},
   "source": [
    "## Solving the main problem - optimum research center locations"
   ]
  },
  {
   "cell_type": "markdown",
   "metadata": {},
   "source": [
    "This is where the magic happens. Enter the number of research centers, and this following block will calculate the optimum positions.\n",
    "\n",
    "**Warning - This creates a .txt file with all possible combinations of rec centers. The last line of that txt file has the output with the optimum locations**\n",
    "\n",
    "**Update - This option is turned off by default. If you want to enable it, change print_flag value to True on line 2**\n",
    "\n",
    "This code takes roughly:\n",
    "1.2 seconds to run for 3 research centers\n",
    "18 seconds to run for 4 research centers"
   ]
  },
  {
   "cell_type": "code",
   "execution_count": 12,
   "metadata": {
    "ExecuteTime": {
     "end_time": "2020-10-08T20:33:09.752567Z",
     "start_time": "2020-10-08T20:32:51.937188Z"
    }
   },
   "outputs": [],
   "source": [
    "research_centers_number = 4\n",
    "\n",
    "print_flag = False\n",
    "filename = f'Run_{research_centers_number}centers.txt'\n",
    "\n",
    "# Initialting a 'list' of all cities\n",
    "cities_number = len(world)\n",
    "city_dict = {}\n",
    "cities_list = range(0,cities_number)\n",
    "\n",
    "# Creating a list of all possible research center combinations - nCr\n",
    "possible_rec_combs_tuple = (combinations(cities_list, research_centers_number))\n",
    "possible_rec_combs = [list(i) for i in possible_rec_combs_tuple]\n",
    "\n",
    "best_score = 99999\n",
    "for ct,rec_comb in enumerate(list(possible_rec_combs)):\n",
    "    \n",
    "    # This list will hold the minimum distance of each city from nearest research center\n",
    "    city_dist = []\n",
    "    for city in cities_list:\n",
    "        dist = gimmi_dist(city,rec_comb,distdict)\n",
    "        city_dist.append(dist)\n",
    "    \n",
    "    # This dictionary saves the minimum distances of all cities per rec combination.\n",
    "    city_dict[str(rec_comb)]=city_dist\n",
    "    \n",
    "    # Calculate and update best score - Lower is better\n",
    "    config_score = sum(city_dist)\n",
    "    if best_score>config_score:\n",
    "        best_score = config_score\n",
    "        best_comb = rec_comb\n",
    "    \n",
    "    # Exporting to file\n",
    "    if print_flag:\n",
    "        f=open(filename, \"a+\")\n",
    "        f.write(f'{ct},{datetime.now().strftime(\"%H:%M:%S:%f\")},\\\n",
    "                rec_comb-{rec_comb},score-{config_score},best_score-{best_score}\\n')\n",
    "        f.close()\n",
    "    \n",
    "    # Uncomment this line only if you want to see a million+ lines printed - one for each rec combination\n",
    "    # print(f'{ct},{datetime.now().strftime(\"%H:%M:%S:%f\")},\\\n",
    "    #            rec_comb-{rec_comb},score-{config_score},best_score-{best_score}\\n')\n",
    "\n",
    "# This line prints the 'solution' to a txt file\n",
    "if print_flag:\n",
    "    f=open(filename, \"a+\")\n",
    "    f.write('\\nFinal line\\n')\n",
    "    f.write(f\"Best score is {best_score}, for config {best_comb}. The distance is {city_dict[str(best_comb)]}\")\n",
    "    f.close()"
   ]
  },
  {
   "cell_type": "markdown",
   "metadata": {},
   "source": [
    "Voila! Here is the answer we were waiting for."
   ]
  },
  {
   "cell_type": "code",
   "execution_count": 13,
   "metadata": {
    "ExecuteTime": {
     "end_time": "2020-10-08T20:33:13.656898Z",
     "start_time": "2020-10-08T20:33:13.654050Z"
    }
   },
   "outputs": [
    {
     "name": "stdout",
     "output_type": "stream",
     "text": [
      "If we have 4 research centers, then we better place them in ['New York', 'Mexico City', 'Cairo', 'Hong Kong']. \n",
      "This combination has a score of 69.\n",
      "Distance to each city is: \n",
      "[2, 2, 1, 1, 0, 1, 1, 0, 1, 1, 1, 2, 2, 2, 2, 1, 2, 2, 1, 2, 2, 1, 2, 2, 1, 1, 2, 0, 1, 2, 1, 2, 2, 3, 2, 1, 1, 2, 1, 0, 2, 1, 1, 2, 2, 2, 2, 1]\n"
     ]
    }
   ],
   "source": [
    "# Output\n",
    "print(f'If we have {research_centers_number} research centers, \\\n",
    "then we better place them in {[place_names[i] for i in best_comb]}. \\\n",
    "\\nThis combination has a score of {best_score}.\\\n",
    "\\nDistance to each city is: \\n{city_dict[str(best_comb)]}')\n"
   ]
  }
 ],
 "metadata": {
  "kernelspec": {
   "display_name": "Python 3",
   "language": "python",
   "name": "python3"
  },
  "language_info": {
   "codemirror_mode": {
    "name": "ipython",
    "version": 3
   },
   "file_extension": ".py",
   "mimetype": "text/x-python",
   "name": "python",
   "nbconvert_exporter": "python",
   "pygments_lexer": "ipython3",
   "version": "3.7.1"
  },
  "toc": {
   "base_numbering": 1,
   "nav_menu": {},
   "number_sections": false,
   "sideBar": true,
   "skip_h1_title": false,
   "title_cell": "Table of Contents",
   "title_sidebar": "Contents",
   "toc_cell": false,
   "toc_position": {},
   "toc_section_display": true,
   "toc_window_display": false
  },
  "varInspector": {
   "cols": {
    "lenName": "25",
    "lenType": "25",
    "lenVar": "60"
   },
   "kernels_config": {
    "python": {
     "delete_cmd_postfix": "",
     "delete_cmd_prefix": "del ",
     "library": "var_list.py",
     "varRefreshCmd": "print(var_dic_list())"
    },
    "r": {
     "delete_cmd_postfix": ") ",
     "delete_cmd_prefix": "rm(",
     "library": "var_list.r",
     "varRefreshCmd": "cat(var_dic_list()) "
    }
   },
   "types_to_exclude": [
    "module",
    "function",
    "builtin_function_or_method",
    "instance",
    "_Feature"
   ],
   "window_display": false
  }
 },
 "nbformat": 4,
 "nbformat_minor": 2
}
